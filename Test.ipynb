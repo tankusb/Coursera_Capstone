{
 "cells": [
  {
   "cell_type": "code",
   "execution_count": 1,
   "metadata": {},
   "outputs": [
    {
     "name": "stdout",
     "output_type": "stream",
     "text": [
      "Requirement already up-to-date: jupyterlab-git in c:\\users\\benjamin tankus\\anaconda3\\lib\\site-packages (0.20.0)\n",
      "Requirement already satisfied, skipping upgrade: pexpect in c:\\users\\benjamin tankus\\anaconda3\\lib\\site-packages (from jupyterlab-git) (4.8.0)\n",
      "Requirement already satisfied, skipping upgrade: nbdime~=2.0 in c:\\users\\benjamin tankus\\anaconda3\\lib\\site-packages (from jupyterlab-git) (2.0.0)\n",
      "Requirement already satisfied, skipping upgrade: notebook in c:\\users\\benjamin tankus\\anaconda3\\lib\\site-packages (from jupyterlab-git) (6.0.0)\n",
      "Requirement already satisfied, skipping upgrade: ptyprocess>=0.5 in c:\\users\\benjamin tankus\\anaconda3\\lib\\site-packages (from pexpect->jupyterlab-git) (0.6.0)\n",
      "Requirement already satisfied, skipping upgrade: six in c:\\users\\benjamin tankus\\anaconda3\\lib\\site-packages (from nbdime~=2.0->jupyterlab-git) (1.12.0)\n",
      "Requirement already satisfied, skipping upgrade: colorama in c:\\users\\benjamin tankus\\anaconda3\\lib\\site-packages (from nbdime~=2.0->jupyterlab-git) (0.4.1)\n",
      "Requirement already satisfied, skipping upgrade: nbformat in c:\\users\\benjamin tankus\\anaconda3\\lib\\site-packages (from nbdime~=2.0->jupyterlab-git) (4.4.0)\n",
      "Requirement already satisfied, skipping upgrade: GitPython!=2.1.4,!=2.1.5,!=2.1.6 in c:\\users\\benjamin tankus\\anaconda3\\lib\\site-packages (from nbdime~=2.0->jupyterlab-git) (3.1.2)\n",
      "Requirement already satisfied, skipping upgrade: jinja2>=2.9 in c:\\users\\benjamin tankus\\anaconda3\\lib\\site-packages (from nbdime~=2.0->jupyterlab-git) (2.10.1)\n",
      "Requirement already satisfied, skipping upgrade: requests in c:\\users\\benjamin tankus\\anaconda3\\lib\\site-packages (from nbdime~=2.0->jupyterlab-git) (2.22.0)\n",
      "Requirement already satisfied, skipping upgrade: pygments in c:\\users\\benjamin tankus\\anaconda3\\lib\\site-packages (from nbdime~=2.0->jupyterlab-git) (2.4.2)\n",
      "Requirement already satisfied, skipping upgrade: tornado in c:\\users\\benjamin tankus\\anaconda3\\lib\\site-packages (from nbdime~=2.0->jupyterlab-git) (6.0.3)\n",
      "Requirement already satisfied, skipping upgrade: ipython-genutils in c:\\users\\benjamin tankus\\anaconda3\\lib\\site-packages (from notebook->jupyterlab-git) (0.2.0)\n",
      "Requirement already satisfied, skipping upgrade: ipykernel in c:\\users\\benjamin tankus\\anaconda3\\lib\\site-packages (from notebook->jupyterlab-git) (5.1.1)\n",
      "Requirement already satisfied, skipping upgrade: jupyter-client>=5.3.1 in c:\\users\\benjamin tankus\\anaconda3\\lib\\site-packages (from notebook->jupyterlab-git) (5.3.1)\n",
      "Requirement already satisfied, skipping upgrade: nbconvert in c:\\users\\benjamin tankus\\anaconda3\\lib\\site-packages (from notebook->jupyterlab-git) (5.5.0)\n",
      "Requirement already satisfied, skipping upgrade: jupyter-core>=4.4.0 in c:\\users\\benjamin tankus\\anaconda3\\lib\\site-packages (from notebook->jupyterlab-git) (4.5.0)\n",
      "Requirement already satisfied, skipping upgrade: terminado>=0.8.1 in c:\\users\\benjamin tankus\\anaconda3\\lib\\site-packages (from notebook->jupyterlab-git) (0.8.2)\n",
      "Requirement already satisfied, skipping upgrade: pyzmq>=17 in c:\\users\\benjamin tankus\\anaconda3\\lib\\site-packages (from notebook->jupyterlab-git) (18.0.0)\n",
      "Requirement already satisfied, skipping upgrade: traitlets>=4.2.1 in c:\\users\\benjamin tankus\\anaconda3\\lib\\site-packages (from notebook->jupyterlab-git) (4.3.2)\n",
      "Requirement already satisfied, skipping upgrade: prometheus-client in c:\\users\\benjamin tankus\\anaconda3\\lib\\site-packages (from notebook->jupyterlab-git) (0.7.1)\n",
      "Requirement already satisfied, skipping upgrade: Send2Trash in c:\\users\\benjamin tankus\\anaconda3\\lib\\site-packages (from notebook->jupyterlab-git) (1.5.0)\n",
      "Requirement already satisfied, skipping upgrade: jsonschema!=2.5.0,>=2.4 in c:\\users\\benjamin tankus\\anaconda3\\lib\\site-packages (from nbformat->nbdime~=2.0->jupyterlab-git) (3.0.1)\n",
      "Requirement already satisfied, skipping upgrade: gitdb<5,>=4.0.1 in c:\\users\\benjamin tankus\\anaconda3\\lib\\site-packages (from GitPython!=2.1.4,!=2.1.5,!=2.1.6->nbdime~=2.0->jupyterlab-git) (4.0.5)\n",
      "Requirement already satisfied, skipping upgrade: MarkupSafe>=0.23 in c:\\users\\benjamin tankus\\anaconda3\\lib\\site-packages (from jinja2>=2.9->nbdime~=2.0->jupyterlab-git) (1.1.1)\n",
      "Requirement already satisfied, skipping upgrade: urllib3!=1.25.0,!=1.25.1,<1.26,>=1.21.1 in c:\\users\\benjamin tankus\\anaconda3\\lib\\site-packages (from requests->nbdime~=2.0->jupyterlab-git) (1.24.2)\n",
      "Requirement already satisfied, skipping upgrade: chardet<3.1.0,>=3.0.2 in c:\\users\\benjamin tankus\\anaconda3\\lib\\site-packages (from requests->nbdime~=2.0->jupyterlab-git) (3.0.4)\n",
      "Requirement already satisfied, skipping upgrade: certifi>=2017.4.17 in c:\\users\\benjamin tankus\\anaconda3\\lib\\site-packages (from requests->nbdime~=2.0->jupyterlab-git) (2019.6.16)\n",
      "Requirement already satisfied, skipping upgrade: idna<2.9,>=2.5 in c:\\users\\benjamin tankus\\anaconda3\\lib\\site-packages (from requests->nbdime~=2.0->jupyterlab-git) (2.8)\n",
      "Requirement already satisfied, skipping upgrade: ipython>=5.0.0 in c:\\users\\benjamin tankus\\anaconda3\\lib\\site-packages (from ipykernel->notebook->jupyterlab-git) (7.6.1)\n",
      "Requirement already satisfied, skipping upgrade: python-dateutil>=2.1 in c:\\users\\benjamin tankus\\anaconda3\\lib\\site-packages (from jupyter-client>=5.3.1->notebook->jupyterlab-git) (2.8.0)\n",
      "Requirement already satisfied, skipping upgrade: testpath in c:\\users\\benjamin tankus\\anaconda3\\lib\\site-packages (from nbconvert->notebook->jupyterlab-git) (0.4.2)\n",
      "Requirement already satisfied, skipping upgrade: pandocfilters>=1.4.1 in c:\\users\\benjamin tankus\\anaconda3\\lib\\site-packages (from nbconvert->notebook->jupyterlab-git) (1.4.2)\n",
      "Requirement already satisfied, skipping upgrade: mistune>=0.8.1 in c:\\users\\benjamin tankus\\anaconda3\\lib\\site-packages (from nbconvert->notebook->jupyterlab-git) (0.8.4)\n",
      "Requirement already satisfied, skipping upgrade: entrypoints>=0.2.2 in c:\\users\\benjamin tankus\\anaconda3\\lib\\site-packages (from nbconvert->notebook->jupyterlab-git) (0.3)\n",
      "Requirement already satisfied, skipping upgrade: defusedxml in c:\\users\\benjamin tankus\\anaconda3\\lib\\site-packages (from nbconvert->notebook->jupyterlab-git) (0.6.0)\n",
      "Requirement already satisfied, skipping upgrade: bleach in c:\\users\\benjamin tankus\\anaconda3\\lib\\site-packages (from nbconvert->notebook->jupyterlab-git) (3.1.0)\n",
      "Requirement already satisfied, skipping upgrade: decorator in c:\\users\\benjamin tankus\\anaconda3\\lib\\site-packages (from traitlets>=4.2.1->notebook->jupyterlab-git) (4.4.0)\n",
      "Requirement already satisfied, skipping upgrade: attrs>=17.4.0 in c:\\users\\benjamin tankus\\anaconda3\\lib\\site-packages (from jsonschema!=2.5.0,>=2.4->nbformat->nbdime~=2.0->jupyterlab-git) (19.1.0)\n",
      "Requirement already satisfied, skipping upgrade: pyrsistent>=0.14.0 in c:\\users\\benjamin tankus\\anaconda3\\lib\\site-packages (from jsonschema!=2.5.0,>=2.4->nbformat->nbdime~=2.0->jupyterlab-git) (0.14.11)\n",
      "Requirement already satisfied, skipping upgrade: setuptools in c:\\users\\benjamin tankus\\anaconda3\\lib\\site-packages (from jsonschema!=2.5.0,>=2.4->nbformat->nbdime~=2.0->jupyterlab-git) (41.0.1)\n",
      "Requirement already satisfied, skipping upgrade: smmap<4,>=3.0.1 in c:\\users\\benjamin tankus\\anaconda3\\lib\\site-packages (from gitdb<5,>=4.0.1->GitPython!=2.1.4,!=2.1.5,!=2.1.6->nbdime~=2.0->jupyterlab-git) (3.0.4)\n",
      "Requirement already satisfied, skipping upgrade: prompt-toolkit<2.1.0,>=2.0.0 in c:\\users\\benjamin tankus\\anaconda3\\lib\\site-packages (from ipython>=5.0.0->ipykernel->notebook->jupyterlab-git) (2.0.9)\n",
      "Requirement already satisfied, skipping upgrade: jedi>=0.10 in c:\\users\\benjamin tankus\\anaconda3\\lib\\site-packages (from ipython>=5.0.0->ipykernel->notebook->jupyterlab-git) (0.13.3)\n",
      "Requirement already satisfied, skipping upgrade: pickleshare in c:\\users\\benjamin tankus\\anaconda3\\lib\\site-packages (from ipython>=5.0.0->ipykernel->notebook->jupyterlab-git) (0.7.5)\n",
      "Requirement already satisfied, skipping upgrade: backcall in c:\\users\\benjamin tankus\\anaconda3\\lib\\site-packages (from ipython>=5.0.0->ipykernel->notebook->jupyterlab-git) (0.1.0)\n",
      "Requirement already satisfied, skipping upgrade: webencodings in c:\\users\\benjamin tankus\\anaconda3\\lib\\site-packages (from bleach->nbconvert->notebook->jupyterlab-git) (0.5.1)\n",
      "Requirement already satisfied, skipping upgrade: wcwidth in c:\\users\\benjamin tankus\\anaconda3\\lib\\site-packages (from prompt-toolkit<2.1.0,>=2.0.0->ipython>=5.0.0->ipykernel->notebook->jupyterlab-git) (0.1.7)\n",
      "Requirement already satisfied, skipping upgrade: parso>=0.3.0 in c:\\users\\benjamin tankus\\anaconda3\\lib\\site-packages (from jedi>=0.10->ipython>=5.0.0->ipykernel->notebook->jupyterlab-git) (0.5.0)\n"
     ]
    }
   ],
   "source": [
    "! pip install --upgrade jupyterlab-git\n"
   ]
  },
  {
   "cell_type": "code",
   "execution_count": 2,
   "metadata": {},
   "outputs": [
    {
     "name": "stdout",
     "output_type": "stream",
     "text": [
      "An error occured.\n",
      "ValueError: Please install nodejs 5+ and npm before continuing installation. nodejs may be installed using conda or directly from the nodejs website.\n",
      "See the log file for details:  C:\\Users\\BENJAM~1\\AppData\\Local\\Temp\\jupyterlab-debug-udmcya_4.log\n"
     ]
    },
    {
     "name": "stderr",
     "output_type": "stream",
     "text": [
      "[LabBuildApp] JupyterLab 1.0.2\n",
      "[LabBuildApp] Building in C:\\Users\\Benjamin Tankus\\Anaconda3\\share\\jupyter\\lab\n"
     ]
    }
   ],
   "source": [
    "! jupyter lab build"
   ]
  },
  {
   "cell_type": "code",
   "execution_count": 6,
   "metadata": {},
   "outputs": [
    {
     "name": "stdout",
     "output_type": "stream",
     "text": [
      "config dir: C:\\Users\\Benjamin Tankus\\.jupyter\n",
      "    jupyterlab_git enabled \n",
      "config dir: C:\\Users\\Benjamin Tankus\\Anaconda3\\etc\\jupyter\n",
      "    jupyterlab enabled \n",
      "    jupyterlab_git enabled \n",
      "    jupytext enabled \n",
      "    nbdime enabled \n"
     ]
    },
    {
     "name": "stderr",
     "output_type": "stream",
     "text": [
      "    - Validating...\n",
      "      jupyterlab_git 0.20.0 ok\n",
      "    - Validating...\n",
      "      jupyterlab 1.0.2 ok\n",
      "    - Validating...\n",
      "      jupyterlab_git 0.20.0 ok\n",
      "    - Validating...\n",
      "      jupytext 1.4.2 ok\n",
      "    - Validating...\n",
      "      nbdime 2.0.0 ok\n"
     ]
    }
   ],
   "source": [
    "! jupyter serverextension list\n",
    "#! jupyter serverextension enable --py jupyterlab_git\n"
   ]
  },
  {
   "cell_type": "code",
   "execution_count": 8,
   "metadata": {},
   "outputs": [
    {
     "name": "stdout",
     "output_type": "stream",
     "text": [
      "An error occured.\n",
      "ValueError: Please install nodejs 5+ and npm before continuing installation. nodejs may be installed using conda or directly from the nodejs website.\n",
      "See the log file for details:  C:\\Users\\BENJAM~1\\AppData\\Local\\Temp\\jupyterlab-debug-kerpynd8.log\n",
      "JupyterLab v1.0.2\n",
      "Known labextensions:\n"
     ]
    },
    {
     "name": "stderr",
     "output_type": "stream",
     "text": [
      "   app dir: C:\\Users\\Benjamin Tankus\\Anaconda3\\share\\jupyter\\lab\n",
      "        @jupyterlab/git v0.20.0 enabled   X\n",
      "        jupyterlab-jupytext v1.2.1 enabled   X\n",
      "        nbdime-jupyterlab v2.0.0 enabled   X\n",
      "\n",
      "\"@jupyterlab/git@0.20.0\" is not compatible with the current JupyterLab\n",
      "Conflicting Dependencies:\n",
      "JupyterLab              Extension      Package\n",
      ">=1.0.1 <2.0.0          >=2.0.0 <3.0.0 @jupyterlab/application\n",
      ">=1.0.1 <2.0.0          >=2.0.0 <3.0.0 @jupyterlab/apputils\n",
      ">=1.0.1 <2.0.0          >=2.0.0 <3.0.0 @jupyterlab/console\n",
      ">=3.0.0 <4.0.0          >=4.0.0 <5.0.0 @jupyterlab/coreutils\n",
      ">=1.0.1 <2.0.0          >=2.0.0 <3.0.0 @jupyterlab/filebrowser\n",
      ">=4.0.1 <5.0.0          >=5.0.0 <6.0.0 @jupyterlab/services\n",
      ">=1.0.1 <2.0.0          >=2.0.0 <3.0.0 @jupyterlab/terminal\n",
      "\n",
      "\n",
      "\n",
      "\"jupyterlab-jupytext@1.2.1\" is not compatible with the current JupyterLab\n",
      "Conflicting Dependencies:\n",
      "JupyterLab              Extension      Package\n",
      ">=1.0.1 <2.0.0          >=2.0.0 <3.0.0 @jupyterlab/application\n",
      ">=1.0.1 <2.0.0          >=2.0.0 <3.0.0 @jupyterlab/apputils\n",
      ">=1.0.1 <2.0.0          >=2.0.0 <3.0.0 @jupyterlab/notebook\n",
      "\n",
      "\n",
      "\n",
      "\"nbdime-jupyterlab@2.0.0\" is not compatible with the current JupyterLab\n",
      "Conflicting Dependencies:\n",
      "JupyterLab             Extension      Package\n",
      ">=1.0.1 <2.0.0         >=2.0.0 <3.0.0 @jupyterlab/apputils\n",
      ">=3.0.0 <4.0.0         >=4.0.0 <5.0.0 @jupyterlab/coreutils\n",
      ">=1.0.1 <2.0.0         >=2.0.0 <3.0.0 @jupyterlab/notebook\n",
      ">=1.0.1 <2.0.0         >=2.0.0 <3.0.0 @jupyterlab/rendermime\n",
      ">=4.0.1 <5.0.0         >=5.0.0 <6.0.0 @jupyterlab/services\n",
      "\n",
      "\n"
     ]
    }
   ],
   "source": [
    "! jupyter labextension install @jupyterlab/git\n",
    "! jupyter labextension list"
   ]
  },
  {
   "cell_type": "code",
   "execution_count": null,
   "metadata": {},
   "outputs": [],
   "source": []
  }
 ],
 "metadata": {
  "kernelspec": {
   "display_name": "Python 3",
   "language": "python",
   "name": "python3"
  },
  "language_info": {
   "codemirror_mode": {
    "name": "ipython",
    "version": 3
   },
   "file_extension": ".py",
   "mimetype": "text/x-python",
   "name": "python",
   "nbconvert_exporter": "python",
   "pygments_lexer": "ipython3",
   "version": "3.7.3"
  }
 },
 "nbformat": 4,
 "nbformat_minor": 4
}
