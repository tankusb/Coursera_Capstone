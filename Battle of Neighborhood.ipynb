{
    "cells": [
        {
            "cell_type": "markdown",
            "metadata": {},
            "source": "# Battle of Neighborhood\n## Week 4 assignment\n1. In Module 3, we explored New York City and the city of Toronto and segmented and clustered their neighborhoods. Both cities are very diverse and are the financial capitals of their respective countries. One interesting idea would be to compare the neighborhoods of the two cities and determine how similar or dissimilar they are. Is New York City more like Toronto or Paris or some other multicultural city? I will leave it to you to refine this idea.  \n<p> \n    \n2. In a city of your choice, if someone is looking to open a restaurant, where would you recommend that they open it? Similarly, if a contractor is trying to start their own business, where would you recommend that they setup their office?\n"
        },
        {
            "cell_type": "code",
            "execution_count": 1,
            "metadata": {},
            "outputs": [],
            "source": "import pandas as pd\n"
        },
        {
            "cell_type": "markdown",
            "metadata": {},
            "source": "# 1. A description of the problem and a discussion of the background. \n\nWe want to determine how similar neighboorhoods in three cities are: New York City, Toronto, and Paris. We want to do this to detirmine how similar they are as multicultural cities.\n"
        },
        {
            "cell_type": "markdown",
            "metadata": {},
            "source": "# 2. A description of the data and how it will be used to solve the problem. (15 marks)\nThe first problem will be fairly simple to solve.\n0. Pull the data for all three cities \n1. Select a neighborhood randomly from each city.\n2. As was done in a previous lab, calculate the top 10 activities in each neighboorhood\n3. Compare these results empirically "
        },
        {
            "cell_type": "code",
            "execution_count": null,
            "metadata": {},
            "outputs": [],
            "source": ""
        }
    ],
    "metadata": {
        "kernelspec": {
            "display_name": "Python 3.6",
            "language": "python",
            "name": "python3"
        },
        "language_info": {
            "codemirror_mode": {
                "name": "ipython",
                "version": 3
            },
            "file_extension": ".py",
            "mimetype": "text/x-python",
            "name": "python",
            "nbconvert_exporter": "python",
            "pygments_lexer": "ipython3",
            "version": "3.6.9"
        }
    },
    "nbformat": 4,
    "nbformat_minor": 1
}